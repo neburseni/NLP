{
 "cells": [
  {
   "cell_type": "code",
   "execution_count": 2,
   "metadata": {},
   "outputs": [
    {
     "name": "stdout",
     "output_type": "stream",
     "text": [
      "Collecting simpletransformers\n",
      "  Downloading https://files.pythonhosted.org/packages/50/38/8aa5d194930c7fcd7a331defba1813968469b3638d5c0f4d14dc8cd8f7f1/simpletransformers-0.19.4-py3-none-any.whl (101kB)\n",
      "\u001b[K    100% |████████████████████████████████| 102kB 720kB/s a 0:00:01\n",
      "\u001b[?25hCollecting tensorboardx (from simpletransformers)\n",
      "  Downloading https://files.pythonhosted.org/packages/35/f1/5843425495765c8c2dd0784a851a93ef204d314fc87bcc2bbb9f662a3ad1/tensorboardX-2.0-py2.py3-none-any.whl (195kB)\n",
      "\u001b[K    100% |████████████████████████████████| 204kB 1.8MB/s ta 0:00:011\n",
      "\u001b[?25hCollecting pandas (from simpletransformers)\n",
      "  Downloading https://files.pythonhosted.org/packages/12/d1/a6502c2f5c15b50f5dd579fc1c52b47edf6f2e9f682aed917dd7565b3e60/pandas-1.0.0-cp36-cp36m-manylinux1_x86_64.whl (10.1MB)\n",
      "\u001b[K    100% |████████████████████████████████| 10.1MB 186kB/s ta 0:00:01\n",
      "\u001b[?25hCollecting tqdm (from simpletransformers)\n",
      "  Using cached https://files.pythonhosted.org/packages/cd/80/5bb262050dd2f30f8819626b7c92339708fe2ed7bd5554c8193b4487b367/tqdm-4.42.1-py2.py3-none-any.whl\n",
      "Collecting wandb (from simpletransformers)\n",
      "  Downloading https://files.pythonhosted.org/packages/ed/a5/26e3142af4d8205b049ce91bbad4e961edf6734e4acfa4baae52a428f955/wandb-0.8.25-py2.py3-none-any.whl (1.4MB)\n",
      "\u001b[K    100% |████████████████████████████████| 1.4MB 638kB/s ta 0:00:011\n",
      "\u001b[?25hCollecting scipy (from simpletransformers)\n",
      "  Using cached https://files.pythonhosted.org/packages/dc/29/162476fd44203116e7980cfbd9352eef9db37c49445d1fec35509022f6aa/scipy-1.4.1-cp36-cp36m-manylinux1_x86_64.whl\n",
      "Collecting scikit-learn (from simpletransformers)\n",
      "  Using cached https://files.pythonhosted.org/packages/d1/48/e9fa9e252abcd1447eff6f9257636af31758a6e46fd5ce5d3c879f6907cb/scikit_learn-0.22.1-cp36-cp36m-manylinux1_x86_64.whl\n",
      "Collecting regex (from simpletransformers)\n",
      "  Using cached https://files.pythonhosted.org/packages/63/ae/057469010c579f6f6f37fc9b63b2d70af4ec20f2a7e2f3a1c4f364b4dde0/regex-2020.1.8-cp36-cp36m-manylinux1_x86_64.whl\n",
      "Collecting transformers (from simpletransformers)\n",
      "  Using cached https://files.pythonhosted.org/packages/ee/fc/bd726a15ab2c66dc09306689d04da07a3770dad724f0883f0a4bfb745087/transformers-2.4.1-py3-none-any.whl\n",
      "Collecting numpy (from simpletransformers)\n",
      "  Using cached https://files.pythonhosted.org/packages/62/20/4d43e141b5bc426ba38274933ef8e76e85c7adea2c321ecf9ebf7421cedf/numpy-1.18.1-cp36-cp36m-manylinux1_x86_64.whl\n",
      "Collecting requests (from simpletransformers)\n",
      "  Using cached https://files.pythonhosted.org/packages/51/bd/23c926cd341ea6b7dd0b2a00aba99ae0f828be89d72b2190f27c11d4b7fb/requests-2.22.0-py2.py3-none-any.whl\n",
      "Collecting seqeval (from simpletransformers)\n",
      "  Downloading https://files.pythonhosted.org/packages/34/91/068aca8d60ce56dd9ba4506850e876aba5e66a6f2f29aa223224b50df0de/seqeval-0.0.12.tar.gz\n",
      "Collecting protobuf>=3.8.0 (from tensorboardx->simpletransformers)\n",
      "  Downloading https://files.pythonhosted.org/packages/57/02/5432412c162989260fab61fa65e0a490c1872739eb91a659896e4d554b26/protobuf-3.11.3-cp36-cp36m-manylinux1_x86_64.whl (1.3MB)\n",
      "\u001b[K    100% |████████████████████████████████| 1.3MB 706kB/s ta 0:00:011\n",
      "\u001b[?25hCollecting six (from tensorboardx->simpletransformers)\n",
      "  Using cached https://files.pythonhosted.org/packages/65/eb/1f97cb97bfc2390a276969c6fae16075da282f5058082d4cb10c6c5c1dba/six-1.14.0-py2.py3-none-any.whl\n",
      "Collecting python-dateutil>=2.6.1 (from pandas->simpletransformers)\n",
      "  Using cached https://files.pythonhosted.org/packages/d4/70/d60450c3dd48ef87586924207ae8907090de0b306af2bce5d134d78615cb/python_dateutil-2.8.1-py2.py3-none-any.whl\n",
      "Collecting pytz>=2017.2 (from pandas->simpletransformers)\n",
      "  Using cached https://files.pythonhosted.org/packages/e7/f9/f0b53f88060247251bf481fa6ea62cd0d25bf1b11a87888e53ce5b7c8ad2/pytz-2019.3-py2.py3-none-any.whl\n",
      "Collecting subprocess32>=3.5.3 (from wandb->simpletransformers)\n",
      "  Downloading https://files.pythonhosted.org/packages/32/c8/564be4d12629b912ea431f1a50eb8b3b9d00f1a0b1ceff17f266be190007/subprocess32-3.5.4.tar.gz (97kB)\n",
      "\u001b[K    100% |████████████████████████████████| 102kB 1.7MB/s a 0:00:011\n",
      "\u001b[?25hCollecting configparser>=3.8.1 (from wandb->simpletransformers)\n",
      "  Downloading https://files.pythonhosted.org/packages/7a/2a/95ed0501cf5d8709490b1d3a3f9b5cf340da6c433f896bbe9ce08dbe6785/configparser-4.0.2-py2.py3-none-any.whl\n",
      "Collecting watchdog>=0.8.3 (from wandb->simpletransformers)\n",
      "  Downloading https://files.pythonhosted.org/packages/34/65/dca6d9653656630169e9f71fe3fcf2a487b671a096cf11dc3011c822a408/watchdog-0.10.1.tar.gz (94kB)\n",
      "\u001b[K    100% |████████████████████████████████| 102kB 1.5MB/s a 0:00:011\n",
      "\u001b[?25hCollecting docker-pycreds>=0.4.0 (from wandb->simpletransformers)\n",
      "  Downloading https://files.pythonhosted.org/packages/f5/e8/f6bd1eee09314e7e6dee49cbe2c5e22314ccdb38db16c9fc72d2fa80d054/docker_pycreds-0.4.0-py2.py3-none-any.whl\n",
      "Collecting sentry-sdk>=0.4.0 (from wandb->simpletransformers)\n",
      "  Downloading https://files.pythonhosted.org/packages/23/5a/f1b0c63e40517b06bc21744a94013ca05de21de2687a59de889ea20a9ebd/sentry_sdk-0.14.1-py2.py3-none-any.whl (93kB)\n",
      "\u001b[K    100% |████████████████████████████████| 102kB 2.9MB/s a 0:00:0111\n",
      "\u001b[?25hCollecting shortuuid>=0.5.0 (from wandb->simpletransformers)\n",
      "  Downloading https://files.pythonhosted.org/packages/80/d7/2bfc9332e68d3e15ea97b9b1588b3899ad565120253d3fd71c8f7f13b4fe/shortuuid-0.5.0.tar.gz\n",
      "Collecting psutil>=5.0.0 (from wandb->simpletransformers)\n",
      "  Downloading https://files.pythonhosted.org/packages/73/93/4f8213fbe66fc20cb904f35e6e04e20b47b85bee39845cc66a0bcf5ccdcb/psutil-5.6.7.tar.gz (448kB)\n",
      "\u001b[K    100% |████████████████████████████████| 450kB 892kB/s ta 0:00:01\n",
      "\u001b[?25hCollecting Click>=7.0 (from wandb->simpletransformers)\n",
      "  Using cached https://files.pythonhosted.org/packages/fa/37/45185cb5abbc30d7257104c434fe0b07e5a195a6847506c074527aa599ec/Click-7.0-py2.py3-none-any.whl\n",
      "Collecting gql==0.2.0 (from wandb->simpletransformers)\n",
      "  Downloading https://files.pythonhosted.org/packages/c4/6f/cf9a3056045518f06184e804bae89390eb706168349daa9dff8ac609962a/gql-0.2.0.tar.gz\n",
      "Collecting nvidia-ml-py3>=7.352.0 (from wandb->simpletransformers)\n",
      "Collecting GitPython>=1.0.0 (from wandb->simpletransformers)\n",
      "  Downloading https://files.pythonhosted.org/packages/20/8c/4543981439d23c4ff65b2e62dddd767ebc84a8e664a9b67e840d1e2730d3/GitPython-3.0.5-py3-none-any.whl (455kB)\n",
      "\u001b[K    100% |████████████████████████████████| 460kB 718kB/s ta 0:00:01\n",
      "\u001b[?25hCollecting PyYAML>=3.10 (from wandb->simpletransformers)\n",
      "  Downloading https://files.pythonhosted.org/packages/3d/d9/ea9816aea31beeadccd03f1f8b625ecf8f645bd66744484d162d84803ce5/PyYAML-5.3.tar.gz (268kB)\n",
      "\u001b[K    100% |████████████████████████████████| 276kB 902kB/s ta 0:00:01\n",
      "\u001b[?25hCollecting joblib>=0.11 (from scikit-learn->simpletransformers)\n",
      "  Using cached https://files.pythonhosted.org/packages/28/5c/cf6a2b65a321c4a209efcdf64c2689efae2cb62661f8f6f4bb28547cf1bf/joblib-0.14.1-py2.py3-none-any.whl\n",
      "Collecting sentencepiece (from transformers->simpletransformers)\n",
      "  Using cached https://files.pythonhosted.org/packages/74/f4/2d5214cbf13d06e7cb2c20d84115ca25b53ea76fa1f0ade0e3c9749de214/sentencepiece-0.1.85-cp36-cp36m-manylinux1_x86_64.whl\n",
      "Collecting tokenizers==0.0.11 (from transformers->simpletransformers)\n",
      "  Using cached https://files.pythonhosted.org/packages/5e/36/7af38d572c935f8e0462ec7b4f7a46d73a2b3b1a938f50a5e8132d5b2dc5/tokenizers-0.0.11-cp36-cp36m-manylinux1_x86_64.whl\n",
      "Collecting filelock (from transformers->simpletransformers)\n",
      "  Using cached https://files.pythonhosted.org/packages/93/83/71a2ee6158bb9f39a90c0dea1637f81d5eef866e188e1971a1b1ab01a35a/filelock-3.0.12-py3-none-any.whl\n",
      "Collecting sacremoses (from transformers->simpletransformers)\n",
      "Collecting boto3 (from transformers->simpletransformers)\n",
      "  Downloading https://files.pythonhosted.org/packages/c3/96/8c08934766c456742980645ab4956ebde507cd9de41d415715a5c510926e/boto3-1.11.10-py2.py3-none-any.whl (128kB)\n",
      "\u001b[K    100% |████████████████████████████████| 133kB 1.0MB/s ta 0:00:01\n",
      "\u001b[?25hCollecting chardet<3.1.0,>=3.0.2 (from requests->simpletransformers)\n",
      "  Using cached https://files.pythonhosted.org/packages/bc/a9/01ffebfb562e4274b6487b4bb1ddec7ca55ec7510b22e4c51f14098443b8/chardet-3.0.4-py2.py3-none-any.whl\n",
      "Collecting certifi>=2017.4.17 (from requests->simpletransformers)\n"
     ]
    },
    {
     "name": "stdout",
     "output_type": "stream",
     "text": [
      "  Using cached https://files.pythonhosted.org/packages/b9/63/df50cac98ea0d5b006c55a399c3bf1db9da7b5a24de7890bc9cfd5dd9e99/certifi-2019.11.28-py2.py3-none-any.whl\n",
      "Collecting urllib3!=1.25.0,!=1.25.1,<1.26,>=1.21.1 (from requests->simpletransformers)\n",
      "  Using cached https://files.pythonhosted.org/packages/e8/74/6e4f91745020f967d09332bb2b8b9b10090957334692eb88ea4afe91b77f/urllib3-1.25.8-py2.py3-none-any.whl\n",
      "Collecting idna<2.9,>=2.5 (from requests->simpletransformers)\n",
      "  Using cached https://files.pythonhosted.org/packages/14/2c/cd551d81dbe15200be1cf41cd03869a46fe7226e7450af7a6545bfc474c9/idna-2.8-py2.py3-none-any.whl\n",
      "Collecting Keras>=2.2.4 (from seqeval->simpletransformers)\n",
      "  Downloading https://files.pythonhosted.org/packages/ad/fd/6bfe87920d7f4fd475acd28500a42482b6b84479832bdc0fe9e589a60ceb/Keras-2.3.1-py2.py3-none-any.whl (377kB)\n",
      "\u001b[K    100% |████████████████████████████████| 378kB 1.0MB/s ta 0:00:01\n",
      "\u001b[?25hCollecting setuptools (from protobuf>=3.8.0->tensorboardx->simpletransformers)\n",
      "  Downloading https://files.pythonhosted.org/packages/a7/c5/6c1acea1b4ea88b86b03280f3fde1efa04fefecd4e7d2af13e602661cde4/setuptools-45.1.0-py3-none-any.whl (583kB)\n",
      "\u001b[K    100% |████████████████████████████████| 593kB 845kB/s ta 0:00:01\n",
      "\u001b[?25hCollecting pathtools>=0.1.1 (from watchdog>=0.8.3->wandb->simpletransformers)\n",
      "  Downloading https://files.pythonhosted.org/packages/e7/7f/470d6fcdf23f9f3518f6b0b76be9df16dcc8630ad409947f8be2eb0ed13a/pathtools-0.1.2.tar.gz\n",
      "Collecting graphql-core<2,>=0.5.0 (from gql==0.2.0->wandb->simpletransformers)\n",
      "  Downloading https://files.pythonhosted.org/packages/b0/89/00ad5e07524d8c523b14d70c685e0299a8b0de6d0727e368c41b89b7ed0b/graphql-core-1.1.tar.gz (70kB)\n",
      "\u001b[K    100% |████████████████████████████████| 71kB 750kB/s ta 0:00:011\n",
      "\u001b[?25hCollecting promise<3,>=2.0 (from gql==0.2.0->wandb->simpletransformers)\n",
      "  Downloading https://files.pythonhosted.org/packages/cf/9c/fb5d48abfe5d791cd496e4242ebcf87a4bb2e0c3dcd6e0ae68c11426a528/promise-2.3.tar.gz\n",
      "Collecting gitdb2>=2.0.0 (from GitPython>=1.0.0->wandb->simpletransformers)\n",
      "  Downloading https://files.pythonhosted.org/packages/03/6c/99296f89bad2ef85626e1df9f677acbee8885bb043ad82ad3ed4746d2325/gitdb2-2.0.6-py2.py3-none-any.whl (63kB)\n",
      "\u001b[K    100% |████████████████████████████████| 71kB 1.4MB/s ta 0:00:011\n",
      "\u001b[?25hCollecting s3transfer<0.4.0,>=0.3.0 (from boto3->transformers->simpletransformers)\n",
      "  Using cached https://files.pythonhosted.org/packages/c7/48/a8252b6b3cd31774eab312b19d58a6ac55f296240c206617dcd38cd93bf8/s3transfer-0.3.2-py2.py3-none-any.whl\n",
      "Collecting botocore<1.15.0,>=1.14.10 (from boto3->transformers->simpletransformers)\n",
      "  Downloading https://files.pythonhosted.org/packages/c9/58/21a72862f98c97c2e198917d44eb0c76d98a5632e884da79dd07a877410b/botocore-1.14.10-py2.py3-none-any.whl (5.9MB)\n",
      "\u001b[K    100% |████████████████████████████████| 5.9MB 287kB/s ta 0:00:01\n",
      "\u001b[?25hCollecting jmespath<1.0.0,>=0.7.1 (from boto3->transformers->simpletransformers)\n",
      "  Using cached https://files.pythonhosted.org/packages/83/94/7179c3832a6d45b266ddb2aac329e101367fbdb11f425f13771d27f225bb/jmespath-0.9.4-py2.py3-none-any.whl\n",
      "Collecting keras-applications>=1.0.6 (from Keras>=2.2.4->seqeval->simpletransformers)\n",
      "  Downloading https://files.pythonhosted.org/packages/71/e3/19762fdfc62877ae9102edf6342d71b28fbfd9dea3d2f96a882ce099b03f/Keras_Applications-1.0.8-py3-none-any.whl (50kB)\n",
      "\u001b[K    100% |████████████████████████████████| 51kB 2.4MB/s ta 0:00:01\n",
      "\u001b[?25hCollecting h5py (from Keras>=2.2.4->seqeval->simpletransformers)\n",
      "  Downloading https://files.pythonhosted.org/packages/60/06/cafdd44889200e5438b897388f3075b52a8ef01f28a17366d91de0fa2d05/h5py-2.10.0-cp36-cp36m-manylinux1_x86_64.whl (2.9MB)\n",
      "\u001b[K    100% |████████████████████████████████| 2.9MB 448kB/s ta 0:00:01\n",
      "\u001b[?25hCollecting keras-preprocessing>=1.0.5 (from Keras>=2.2.4->seqeval->simpletransformers)\n",
      "  Downloading https://files.pythonhosted.org/packages/28/6a/8c1f62c37212d9fc441a7e26736df51ce6f0e38455816445471f10da4f0a/Keras_Preprocessing-1.1.0-py2.py3-none-any.whl (41kB)\n",
      "\u001b[K    100% |████████████████████████████████| 51kB 4.3MB/s eta 0:00:01\n",
      "\u001b[?25hCollecting smmap2>=2.0.0 (from gitdb2>=2.0.0->GitPython>=1.0.0->wandb->simpletransformers)\n",
      "  Downloading https://files.pythonhosted.org/packages/55/d2/866d45e3a121ee15a1dc013824d58072fd5c7799c9c34d01378eb262ca8f/smmap2-2.0.5-py2.py3-none-any.whl\n",
      "Collecting docutils<0.16,>=0.10 (from botocore<1.15.0,>=1.14.10->boto3->transformers->simpletransformers)\n",
      "  Using cached https://files.pythonhosted.org/packages/22/cd/a6aa959dca619918ccb55023b4cb151949c64d4d5d55b3f4ffd7eee0c6e8/docutils-0.15.2-py3-none-any.whl\n",
      "Building wheels for collected packages: seqeval, subprocess32, watchdog, shortuuid, psutil, gql, PyYAML, pathtools, graphql-core, promise\n",
      "  Running setup.py bdist_wheel for seqeval ... \u001b[?25ldone\n",
      "\u001b[?25h  Stored in directory: /home/rubn/.cache/pip/wheels/4f/32/0a/df3b340a82583566975377d65e724895b3fad101a3fb729f68\n",
      "  Running setup.py bdist_wheel for subprocess32 ... \u001b[?25ldone\n",
      "\u001b[?25h  Stored in directory: /home/rubn/.cache/pip/wheels/68/39/1a/5e402bdfdf004af1786c8b853fd92f8c4a04f22aad179654d1\n",
      "  Running setup.py bdist_wheel for watchdog ... \u001b[?25ldone\n",
      "\u001b[?25h  Stored in directory: /home/rubn/.cache/pip/wheels/d3/07/ac/f8e4e29b1f6df6ed9569891d26a326f2af9ff8b77448cc46b8\n",
      "  Running setup.py bdist_wheel for shortuuid ... \u001b[?25ldone\n",
      "\u001b[?25h  Stored in directory: /home/rubn/.cache/pip/wheels/3f/eb/fd/69e5177f67b505e44acbd1aedfbe44b91768ee0c4cd5636576\n",
      "  Running setup.py bdist_wheel for psutil ... \u001b[?25ldone\n",
      "\u001b[?25h  Stored in directory: /home/rubn/.cache/pip/wheels/52/41/b0/bf50409fe2b1d3b79afa3eed71b54b3e30fe5b695db2c7ba2e\n",
      "  Running setup.py bdist_wheel for gql ... \u001b[?25ldone\n",
      "\u001b[?25h  Stored in directory: /home/rubn/.cache/pip/wheels/ce/0e/7b/58a8a5268655b3ad74feef5aa97946f0addafb3cbb6bd2da23\n",
      "  Running setup.py bdist_wheel for PyYAML ... \u001b[?25ldone\n",
      "\u001b[?25h  Stored in directory: /home/rubn/.cache/pip/wheels/e4/76/4d/a95b8dd7b452b69e8ed4f68b69e1b55e12c9c9624dd962b191\n",
      "  Running setup.py bdist_wheel for pathtools ... \u001b[?25ldone\n",
      "\u001b[?25h  Stored in directory: /home/rubn/.cache/pip/wheels/0b/04/79/c3b0c3a0266a3cb4376da31e5bfe8bba0c489246968a68e843\n",
      "  Running setup.py bdist_wheel for graphql-core ... \u001b[?25ldone\n",
      "\u001b[?25h  Stored in directory: /home/rubn/.cache/pip/wheels/45/99/d7/c424029bb0fe910c63b68dbf2aa20d3283d023042521bcd7d5\n",
      "  Running setup.py bdist_wheel for promise ... \u001b[?25ldone\n",
      "\u001b[?25h  Stored in directory: /home/rubn/.cache/pip/wheels/19/49/34/c3c1e78bcb954c49e5ec0d31784fe63d14d427f316b12fbde9\n",
      "Successfully built seqeval subprocess32 watchdog shortuuid psutil gql PyYAML pathtools graphql-core promise\n",
      "Installing collected packages: numpy, setuptools, six, protobuf, tensorboardx, python-dateutil, pytz, pandas, tqdm, subprocess32, configparser, pathtools, watchdog, docker-pycreds, chardet, certifi, urllib3, idna, requests, sentry-sdk, shortuuid, psutil, Click, promise, graphql-core, gql, nvidia-ml-py3, smmap2, gitdb2, GitPython, PyYAML, wandb, scipy, joblib, scikit-learn, regex, sentencepiece, tokenizers, filelock, sacremoses, docutils, jmespath, botocore, s3transfer, boto3, transformers, h5py, keras-applications, keras-preprocessing, Keras, seqeval, simpletransformers\n",
      "Successfully installed Click-7.0 GitPython-3.0.5 Keras-2.3.1 PyYAML-5.3 boto3-1.11.10 botocore-1.14.10 certifi-2019.11.28 chardet-3.0.4 configparser-4.0.2 docker-pycreds-0.4.0 docutils-0.15.2 filelock-3.0.12 gitdb2-2.0.6 gql-0.2.0 graphql-core-1.1 h5py-2.10.0 idna-2.8 jmespath-0.9.4 joblib-0.14.1 keras-applications-1.0.8 keras-preprocessing-1.1.0 numpy-1.18.1 nvidia-ml-py3-7.352.0 pandas-1.0.0 pathtools-0.1.2 promise-2.3 protobuf-3.11.3 psutil-5.6.7 python-dateutil-2.8.1 pytz-2019.3 regex-2020.1.8 requests-2.22.0 s3transfer-0.3.2 sacremoses-0.0.38 scikit-learn-0.22.1 scipy-1.4.1 sentencepiece-0.1.85 sentry-sdk-0.14.1 seqeval-0.0.12 setuptools-45.1.0 shortuuid-0.5.0 simpletransformers-0.19.4 six-1.14.0 smmap2-2.0.5 subprocess32-3.5.4 tensorboardx-2.0 tokenizers-0.0.11 tqdm-4.42.1 transformers-2.4.1 urllib3-1.25.8 wandb-0.8.25 watchdog-0.10.1\n"
     ]
    }
   ],
   "source": [
    "!pip3 install simpletransformers"
   ]
  },
  {
   "cell_type": "code",
   "execution_count": 3,
   "metadata": {},
   "outputs": [
    {
     "name": "stderr",
     "output_type": "stream",
     "text": [
      "/usr/local/lib/python3.6/dist-packages/tensorflow/python/framework/dtypes.py:516: FutureWarning: Passing (type, 1) or '1type' as a synonym of type is deprecated; in a future version of numpy, it will be understood as (type, (1,)) / '(1,)type'.\n",
      "  _np_qint8 = np.dtype([(\"qint8\", np.int8, 1)])\n",
      "/usr/local/lib/python3.6/dist-packages/tensorflow/python/framework/dtypes.py:517: FutureWarning: Passing (type, 1) or '1type' as a synonym of type is deprecated; in a future version of numpy, it will be understood as (type, (1,)) / '(1,)type'.\n",
      "  _np_quint8 = np.dtype([(\"quint8\", np.uint8, 1)])\n",
      "/usr/local/lib/python3.6/dist-packages/tensorflow/python/framework/dtypes.py:518: FutureWarning: Passing (type, 1) or '1type' as a synonym of type is deprecated; in a future version of numpy, it will be understood as (type, (1,)) / '(1,)type'.\n",
      "  _np_qint16 = np.dtype([(\"qint16\", np.int16, 1)])\n",
      "/usr/local/lib/python3.6/dist-packages/tensorflow/python/framework/dtypes.py:519: FutureWarning: Passing (type, 1) or '1type' as a synonym of type is deprecated; in a future version of numpy, it will be understood as (type, (1,)) / '(1,)type'.\n",
      "  _np_quint16 = np.dtype([(\"quint16\", np.uint16, 1)])\n",
      "/usr/local/lib/python3.6/dist-packages/tensorflow/python/framework/dtypes.py:520: FutureWarning: Passing (type, 1) or '1type' as a synonym of type is deprecated; in a future version of numpy, it will be understood as (type, (1,)) / '(1,)type'.\n",
      "  _np_qint32 = np.dtype([(\"qint32\", np.int32, 1)])\n",
      "/usr/local/lib/python3.6/dist-packages/tensorflow/python/framework/dtypes.py:525: FutureWarning: Passing (type, 1) or '1type' as a synonym of type is deprecated; in a future version of numpy, it will be understood as (type, (1,)) / '(1,)type'.\n",
      "  np_resource = np.dtype([(\"resource\", np.ubyte, 1)])\n",
      "/usr/local/lib/python3.6/dist-packages/tensorboard/compat/tensorflow_stub/dtypes.py:541: FutureWarning: Passing (type, 1) or '1type' as a synonym of type is deprecated; in a future version of numpy, it will be understood as (type, (1,)) / '(1,)type'.\n",
      "  _np_qint8 = np.dtype([(\"qint8\", np.int8, 1)])\n",
      "/usr/local/lib/python3.6/dist-packages/tensorboard/compat/tensorflow_stub/dtypes.py:542: FutureWarning: Passing (type, 1) or '1type' as a synonym of type is deprecated; in a future version of numpy, it will be understood as (type, (1,)) / '(1,)type'.\n",
      "  _np_quint8 = np.dtype([(\"quint8\", np.uint8, 1)])\n",
      "/usr/local/lib/python3.6/dist-packages/tensorboard/compat/tensorflow_stub/dtypes.py:543: FutureWarning: Passing (type, 1) or '1type' as a synonym of type is deprecated; in a future version of numpy, it will be understood as (type, (1,)) / '(1,)type'.\n",
      "  _np_qint16 = np.dtype([(\"qint16\", np.int16, 1)])\n",
      "/usr/local/lib/python3.6/dist-packages/tensorboard/compat/tensorflow_stub/dtypes.py:544: FutureWarning: Passing (type, 1) or '1type' as a synonym of type is deprecated; in a future version of numpy, it will be understood as (type, (1,)) / '(1,)type'.\n",
      "  _np_quint16 = np.dtype([(\"quint16\", np.uint16, 1)])\n",
      "/usr/local/lib/python3.6/dist-packages/tensorboard/compat/tensorflow_stub/dtypes.py:545: FutureWarning: Passing (type, 1) or '1type' as a synonym of type is deprecated; in a future version of numpy, it will be understood as (type, (1,)) / '(1,)type'.\n",
      "  _np_qint32 = np.dtype([(\"qint32\", np.int32, 1)])\n",
      "/usr/local/lib/python3.6/dist-packages/tensorboard/compat/tensorflow_stub/dtypes.py:550: FutureWarning: Passing (type, 1) or '1type' as a synonym of type is deprecated; in a future version of numpy, it will be understood as (type, (1,)) / '(1,)type'.\n",
      "  np_resource = np.dtype([(\"resource\", np.ubyte, 1)])\n"
     ]
    }
   ],
   "source": [
    "import os, re, string\n",
    "import random\n",
    "\n",
    "import numpy as np\n",
    "import pandas as pd\n",
    "import sklearn\n",
    "\n",
    "import torch\n",
    "\n",
    "from simpletransformers.classification import ClassificationModel\n",
    "from sklearn.model_selection import train_test_split\n",
    "from sklearn.model_selection import KFold"
   ]
  },
  {
   "cell_type": "code",
   "execution_count": 4,
   "metadata": {},
   "outputs": [],
   "source": [
    "seed = 1337\n",
    "\n",
    "random.seed(seed)\n",
    "np.random.seed(seed)\n",
    "torch.manual_seed(seed)\n",
    "torch.cuda.manual_seed(seed)\n",
    "torch.backends.cudnn.deterministic = True"
   ]
  },
  {
   "cell_type": "code",
   "execution_count": 6,
   "metadata": {},
   "outputs": [],
   "source": [
    "train_data = pd.read_csv('../Desktop/train.csv')\n",
    "train_data = train_data[['text', 'target']]"
   ]
  },
  {
   "cell_type": "code",
   "execution_count": 7,
   "metadata": {},
   "outputs": [
    {
     "data": {
      "application/vnd.jupyter.widget-view+json": {
       "model_id": "419461afc0a544f0a2128c78d01c9b5c",
       "version_major": 2,
       "version_minor": 0
      },
      "text/plain": [
       "HBox(children=(FloatProgress(value=0.0, description='Downloading', max=362.0, style=ProgressStyle(description_…"
      ]
     },
     "metadata": {},
     "output_type": "display_data"
    },
    {
     "name": "stdout",
     "output_type": "stream",
     "text": [
      "\n"
     ]
    },
    {
     "data": {
      "application/vnd.jupyter.widget-view+json": {
       "model_id": "41257be646bb4440904a9389d3ea0354",
       "version_major": 2,
       "version_minor": 0
      },
      "text/plain": [
       "HBox(children=(FloatProgress(value=0.0, description='Downloading', max=1344997306.0, style=ProgressStyle(descr…"
      ]
     },
     "metadata": {},
     "output_type": "display_data"
    },
    {
     "name": "stdout",
     "output_type": "stream",
     "text": [
      "\n"
     ]
    },
    {
     "data": {
      "application/vnd.jupyter.widget-view+json": {
       "model_id": "66a334d410e2487f8a4e129b2ffe5fa3",
       "version_major": 2,
       "version_minor": 0
      },
      "text/plain": [
       "HBox(children=(FloatProgress(value=0.0, description='Downloading', max=231508.0, style=ProgressStyle(descripti…"
      ]
     },
     "metadata": {},
     "output_type": "display_data"
    },
    {
     "name": "stdout",
     "output_type": "stream",
     "text": [
      "\n"
     ]
    },
    {
     "data": {
      "text/plain": [
       "{'sliding_window': False,\n",
       " 'tie_value': 1,\n",
       " 'stride': 0.8,\n",
       " 'regression': False,\n",
       " 'output_dir': 'outputs/',\n",
       " 'best_model_dir': 'outputs/best_model',\n",
       " 'cache_dir': 'cache_dir/',\n",
       " 'fp16': True,\n",
       " 'fp16_opt_level': 'O1',\n",
       " 'max_seq_length': 128,\n",
       " 'train_batch_size': 8,\n",
       " 'gradient_accumulation_steps': 1,\n",
       " 'eval_batch_size': 8,\n",
       " 'num_train_epochs': 1,\n",
       " 'weight_decay': 0,\n",
       " 'learning_rate': 4e-05,\n",
       " 'adam_epsilon': 1e-08,\n",
       " 'warmup_ratio': 0.06,\n",
       " 'warmup_steps': 0,\n",
       " 'max_grad_norm': 1.0,\n",
       " 'do_lower_case': False,\n",
       " 'logging_steps': 50,\n",
       " 'save_steps': 2000,\n",
       " 'no_cache': False,\n",
       " 'save_model_every_epoch': True,\n",
       " 'evaluate_during_training': False,\n",
       " 'evaluate_during_training_steps': 2000,\n",
       " 'evaluate_during_training_verbose': False,\n",
       " 'use_cached_eval_features': True,\n",
       " 'save_eval_checkpoints': True,\n",
       " 'tensorboard_dir': None,\n",
       " 'overwrite_output_dir': False,\n",
       " 'reprocess_input_data': False,\n",
       " 'process_count': 4,\n",
       " 'n_gpu': 1,\n",
       " 'use_multiprocessing': True,\n",
       " 'silent': False,\n",
       " 'wandb_project': None,\n",
       " 'wandb_kwargs': {},\n",
       " 'use_early_stopping': False,\n",
       " 'early_stopping_patience': 3,\n",
       " 'early_stopping_delta': 0,\n",
       " 'manual_seed': None,\n",
       " 'model_name': 'bert-large-uncased',\n",
       " 'model_type': 'bert'}"
      ]
     },
     "execution_count": 7,
     "metadata": {},
     "output_type": "execute_result"
    }
   ],
   "source": [
    "bert_uncased = ClassificationModel('bert', 'bert-large-uncased') \n",
    "\n",
    "# Print out all the default arguments for reference\n",
    "bert_uncased.args"
   ]
  },
  {
   "cell_type": "code",
   "execution_count": 8,
   "metadata": {},
   "outputs": [],
   "source": [
    "# This is where we can tweak based on the default arguments above\n",
    "custom_args = {'fp16': False, # not using mixed precision \n",
    "               'train_batch_size': 4, # default is 8\n",
    "               'gradient_accumulation_steps': 2,\n",
    "               'do_lower_case': True,\n",
    "               'learning_rate': 1e-05, # using lower learning rate\n",
    "               'overwrite_output_dir': True, # important for CV\n",
    "               'num_train_epochs': 2} # default is 1"
   ]
  },
  {
   "cell_type": "code",
   "execution_count": 9,
   "metadata": {},
   "outputs": [
    {
     "data": {
      "application/vnd.jupyter.widget-view+json": {
       "model_id": "596e9822d0e74425b06e94c710fa8162",
       "version_major": 2,
       "version_minor": 0
      },
      "text/plain": [
       "HBox(children=(FloatProgress(value=0.0, description='Downloading', max=361.0, style=ProgressStyle(description_…"
      ]
     },
     "metadata": {},
     "output_type": "display_data"
    },
    {
     "name": "stdout",
     "output_type": "stream",
     "text": [
      "\n"
     ]
    },
    {
     "data": {
      "application/vnd.jupyter.widget-view+json": {
       "model_id": "d49b0741ca274490af3fea8c1ea6c6d7",
       "version_major": 2,
       "version_minor": 0
      },
      "text/plain": [
       "HBox(children=(FloatProgress(value=0.0, description='Downloading', max=440473133.0, style=ProgressStyle(descri…"
      ]
     },
     "metadata": {},
     "output_type": "display_data"
    },
    {
     "name": "stdout",
     "output_type": "stream",
     "text": [
      "\n"
     ]
    },
    {
     "data": {
      "application/vnd.jupyter.widget-view+json": {
       "model_id": "40e027c427654a10a6952805c9caf5b0",
       "version_major": 2,
       "version_minor": 0
      },
      "text/plain": [
       "HBox(children=(FloatProgress(value=0.0, description='Downloading', max=231508.0, style=ProgressStyle(descripti…"
      ]
     },
     "metadata": {},
     "output_type": "display_data"
    },
    {
     "name": "stdout",
     "output_type": "stream",
     "text": [
      "\n",
      "Converting to features started. Cache is not used.\n"
     ]
    },
    {
     "name": "stderr",
     "output_type": "stream",
     "text": [
      "/home/rubn/.local/lib/python3.6/site-packages/simpletransformers/classification/classification_model.py:244: UserWarning: Dataframe headers not specified. Falling back to using column 0 as text and column 1 as labels.\n",
      "  \"Dataframe headers not specified. Falling back to using column 0 as text and column 1 as labels.\"\n"
     ]
    },
    {
     "data": {
      "application/vnd.jupyter.widget-view+json": {
       "model_id": "83c6ab8f446f46a9876dce4e344204ec",
       "version_major": 2,
       "version_minor": 0
      },
      "text/plain": [
       "HBox(children=(FloatProgress(value=0.0, max=6090.0), HTML(value='')))"
      ]
     },
     "metadata": {},
     "output_type": "display_data"
    },
    {
     "name": "stdout",
     "output_type": "stream",
     "text": [
      "\n"
     ]
    },
    {
     "data": {
      "application/vnd.jupyter.widget-view+json": {
       "model_id": "7d282c7825a942e4bd70092a8650c4f1",
       "version_major": 2,
       "version_minor": 0
      },
      "text/plain": [
       "HBox(children=(FloatProgress(value=0.0, description='Epoch', max=2.0, style=ProgressStyle(description_width='i…"
      ]
     },
     "metadata": {},
     "output_type": "display_data"
    },
    {
     "data": {
      "application/vnd.jupyter.widget-view+json": {
       "model_id": "291bf63b7d2c434f8e9ca93bddd368e9",
       "version_major": 2,
       "version_minor": 0
      },
      "text/plain": [
       "HBox(children=(FloatProgress(value=0.0, description='Current iteration', max=1523.0, style=ProgressStyle(descr…"
      ]
     },
     "metadata": {},
     "output_type": "display_data"
    },
    {
     "name": "stdout",
     "output_type": "stream",
     "text": [
      "Running loss: 1.284144\n"
     ]
    },
    {
     "data": {
      "application/vnd.jupyter.widget-view+json": {
       "model_id": "026a79ab50d648e784ccddb120c0c541",
       "version_major": 2,
       "version_minor": 0
      },
      "text/plain": [
       "HBox(children=(FloatProgress(value=0.0, description='Current iteration', max=1523.0, style=ProgressStyle(descr…"
      ]
     },
     "metadata": {},
     "output_type": "display_data"
    },
    {
     "name": "stdout",
     "output_type": "stream",
     "text": [
      "Running loss: 0.057286\n",
      "\n",
      "Training of bert model complete. Saved to outputs/.\n",
      "Converting to features started. Cache is not used.\n"
     ]
    },
    {
     "name": "stderr",
     "output_type": "stream",
     "text": [
      "/home/rubn/.local/lib/python3.6/site-packages/simpletransformers/classification/classification_model.py:574: UserWarning: Dataframe headers not specified. Falling back to using column 0 as text and column 1 as labels.\n",
      "  \"Dataframe headers not specified. Falling back to using column 0 as text and column 1 as labels.\"\n"
     ]
    },
    {
     "data": {
      "application/vnd.jupyter.widget-view+json": {
       "model_id": "4c11ec0f000845ee85902043f50da4f1",
       "version_major": 2,
       "version_minor": 0
      },
      "text/plain": [
       "HBox(children=(FloatProgress(value=0.0, max=1523.0), HTML(value='')))"
      ]
     },
     "metadata": {},
     "output_type": "display_data"
    },
    {
     "name": "stdout",
     "output_type": "stream",
     "text": [
      "\n"
     ]
    },
    {
     "data": {
      "application/vnd.jupyter.widget-view+json": {
       "model_id": "e243800827cc4458960ab4cb666337a1",
       "version_major": 2,
       "version_minor": 0
      },
      "text/plain": [
       "HBox(children=(FloatProgress(value=0.0, max=191.0), HTML(value='')))"
      ]
     },
     "metadata": {},
     "output_type": "display_data"
    },
    {
     "name": "stdout",
     "output_type": "stream",
     "text": [
      "\n",
      "{'mcc': 0.7053991431278988, 'tp': 541, 'tn': 762, 'fp': 97, 'fn': 123, 'acc': 0.855548260013132, 'eval_loss': 0.3855130920303664}\n",
      "0.855548260013132\n",
      "Features loaded from cache at cache_dir/cached_train_bert_128_2_6090\n"
     ]
    },
    {
     "data": {
      "application/vnd.jupyter.widget-view+json": {
       "model_id": "d8458873ee3a4839bf52c5103d096b00",
       "version_major": 2,
       "version_minor": 0
      },
      "text/plain": [
       "HBox(children=(FloatProgress(value=0.0, description='Epoch', max=2.0, style=ProgressStyle(description_width='i…"
      ]
     },
     "metadata": {},
     "output_type": "display_data"
    },
    {
     "data": {
      "application/vnd.jupyter.widget-view+json": {
       "model_id": "9aa8e6e0a0ce4424b89e761ef41f1a7a",
       "version_major": 2,
       "version_minor": 0
      },
      "text/plain": [
       "HBox(children=(FloatProgress(value=0.0, description='Current iteration', max=1523.0, style=ProgressStyle(descr…"
      ]
     },
     "metadata": {},
     "output_type": "display_data"
    },
    {
     "name": "stdout",
     "output_type": "stream",
     "text": [
      "Running loss: 0.114310\n"
     ]
    },
    {
     "data": {
      "application/vnd.jupyter.widget-view+json": {
       "model_id": "cafd064c36e542a2853c5d91883fcfde",
       "version_major": 2,
       "version_minor": 0
      },
      "text/plain": [
       "HBox(children=(FloatProgress(value=0.0, description='Current iteration', max=1523.0, style=ProgressStyle(descr…"
      ]
     },
     "metadata": {},
     "output_type": "display_data"
    },
    {
     "name": "stdout",
     "output_type": "stream",
     "text": [
      "Running loss: 0.084602\n",
      "\n",
      "Training of bert model complete. Saved to outputs/.\n",
      "Features loaded from cache at cache_dir/cached_dev_bert_128_2_1523\n"
     ]
    },
    {
     "data": {
      "application/vnd.jupyter.widget-view+json": {
       "model_id": "bd0b32c507444d0bb2322b163f22a953",
       "version_major": 2,
       "version_minor": 0
      },
      "text/plain": [
       "HBox(children=(FloatProgress(value=0.0, max=191.0), HTML(value='')))"
      ]
     },
     "metadata": {},
     "output_type": "display_data"
    },
    {
     "name": "stdout",
     "output_type": "stream",
     "text": [
      "\n",
      "{'mcc': 0.6992238226497209, 'tp': 515, 'tn': 783, 'fp': 76, 'fn': 149, 'acc': 0.8522652659225214, 'eval_loss': 0.39173414829767345}\n",
      "0.8522652659225214\n",
      "Features loaded from cache at cache_dir/cached_train_bert_128_2_6090\n"
     ]
    },
    {
     "data": {
      "application/vnd.jupyter.widget-view+json": {
       "model_id": "7fec7b4f4e7f41d48ed3ddbb3b4d9da4",
       "version_major": 2,
       "version_minor": 0
      },
      "text/plain": [
       "HBox(children=(FloatProgress(value=0.0, description='Epoch', max=2.0, style=ProgressStyle(description_width='i…"
      ]
     },
     "metadata": {},
     "output_type": "display_data"
    },
    {
     "data": {
      "application/vnd.jupyter.widget-view+json": {
       "model_id": "d2d2427a05dd4f26977c284d15eea2aa",
       "version_major": 2,
       "version_minor": 0
      },
      "text/plain": [
       "HBox(children=(FloatProgress(value=0.0, description='Current iteration', max=1523.0, style=ProgressStyle(descr…"
      ]
     },
     "metadata": {},
     "output_type": "display_data"
    },
    {
     "name": "stdout",
     "output_type": "stream",
     "text": [
      "Running loss: 0.095392\n"
     ]
    },
    {
     "data": {
      "application/vnd.jupyter.widget-view+json": {
       "model_id": "83312022ca8a4909b3cee96da2f807f1",
       "version_major": 2,
       "version_minor": 0
      },
      "text/plain": [
       "HBox(children=(FloatProgress(value=0.0, description='Current iteration', max=1523.0, style=ProgressStyle(descr…"
      ]
     },
     "metadata": {},
     "output_type": "display_data"
    },
    {
     "name": "stdout",
     "output_type": "stream",
     "text": [
      "Running loss: 0.332962\n",
      "\n",
      "Training of bert model complete. Saved to outputs/.\n",
      "Features loaded from cache at cache_dir/cached_dev_bert_128_2_1523\n"
     ]
    },
    {
     "data": {
      "application/vnd.jupyter.widget-view+json": {
       "model_id": "768a35e524c643d2866613501314f45e",
       "version_major": 2,
       "version_minor": 0
      },
      "text/plain": [
       "HBox(children=(FloatProgress(value=0.0, max=191.0), HTML(value='')))"
      ]
     },
     "metadata": {},
     "output_type": "display_data"
    },
    {
     "name": "stdout",
     "output_type": "stream",
     "text": [
      "\n",
      "{'mcc': 0.6945948543419463, 'tp': 535, 'tn': 760, 'fp': 99, 'fn': 129, 'acc': 0.8502954694681549, 'eval_loss': 0.398463768655366}\n",
      "0.8502954694681549\n",
      "Converting to features started. Cache is not used.\n"
     ]
    },
    {
     "data": {
      "application/vnd.jupyter.widget-view+json": {
       "model_id": "3b94d1fab56b4d139bc2f7d143bc32b5",
       "version_major": 2,
       "version_minor": 0
      },
      "text/plain": [
       "HBox(children=(FloatProgress(value=0.0, max=6091.0), HTML(value='')))"
      ]
     },
     "metadata": {},
     "output_type": "display_data"
    },
    {
     "name": "stdout",
     "output_type": "stream",
     "text": [
      "\n"
     ]
    },
    {
     "data": {
      "application/vnd.jupyter.widget-view+json": {
       "model_id": "fe438d7eef804252a4c44edf06b26d2f",
       "version_major": 2,
       "version_minor": 0
      },
      "text/plain": [
       "HBox(children=(FloatProgress(value=0.0, description='Epoch', max=2.0, style=ProgressStyle(description_width='i…"
      ]
     },
     "metadata": {},
     "output_type": "display_data"
    },
    {
     "data": {
      "application/vnd.jupyter.widget-view+json": {
       "model_id": "b374adb4f11440dc8d9b7718fa8e1989",
       "version_major": 2,
       "version_minor": 0
      },
      "text/plain": [
       "HBox(children=(FloatProgress(value=0.0, description='Current iteration', max=1523.0, style=ProgressStyle(descr…"
      ]
     },
     "metadata": {},
     "output_type": "display_data"
    },
    {
     "name": "stdout",
     "output_type": "stream",
     "text": [
      "Running loss: 0.667079\n"
     ]
    },
    {
     "data": {
      "application/vnd.jupyter.widget-view+json": {
       "model_id": "fbef6be29d244c32aaec3242ca75ae89",
       "version_major": 2,
       "version_minor": 0
      },
      "text/plain": [
       "HBox(children=(FloatProgress(value=0.0, description='Current iteration', max=1523.0, style=ProgressStyle(descr…"
      ]
     },
     "metadata": {},
     "output_type": "display_data"
    },
    {
     "name": "stdout",
     "output_type": "stream",
     "text": [
      "Running loss: 0.422725\n",
      "\n",
      "Training of bert model complete. Saved to outputs/.\n",
      "Converting to features started. Cache is not used.\n"
     ]
    },
    {
     "data": {
      "application/vnd.jupyter.widget-view+json": {
       "model_id": "0d4206c344534d789968c909a39aa1aa",
       "version_major": 2,
       "version_minor": 0
      },
      "text/plain": [
       "HBox(children=(FloatProgress(value=0.0, max=1522.0), HTML(value='')))"
      ]
     },
     "metadata": {},
     "output_type": "display_data"
    },
    {
     "name": "stdout",
     "output_type": "stream",
     "text": [
      "\n"
     ]
    },
    {
     "data": {
      "application/vnd.jupyter.widget-view+json": {
       "model_id": "586fffd3f76642d2b1bb7b49540b6236",
       "version_major": 2,
       "version_minor": 0
      },
      "text/plain": [
       "HBox(children=(FloatProgress(value=0.0, max=191.0), HTML(value='')))"
      ]
     },
     "metadata": {},
     "output_type": "display_data"
    },
    {
     "name": "stdout",
     "output_type": "stream",
     "text": [
      "\n",
      "{'mcc': 0.639664101004443, 'tp': 503, 'tn': 752, 'fp': 126, 'fn': 141, 'acc': 0.8245729303547963, 'eval_loss': 0.49682678504608063}\n",
      "0.8245729303547963\n",
      "Features loaded from cache at cache_dir/cached_train_bert_128_2_6091\n"
     ]
    },
    {
     "data": {
      "application/vnd.jupyter.widget-view+json": {
       "model_id": "329596ce642247d89400a0336e4b9de8",
       "version_major": 2,
       "version_minor": 0
      },
      "text/plain": [
       "HBox(children=(FloatProgress(value=0.0, description='Epoch', max=2.0, style=ProgressStyle(description_width='i…"
      ]
     },
     "metadata": {},
     "output_type": "display_data"
    },
    {
     "data": {
      "application/vnd.jupyter.widget-view+json": {
       "model_id": "0b24d8839b4347c5884e4a8812ce8ece",
       "version_major": 2,
       "version_minor": 0
      },
      "text/plain": [
       "HBox(children=(FloatProgress(value=0.0, description='Current iteration', max=1523.0, style=ProgressStyle(descr…"
      ]
     },
     "metadata": {},
     "output_type": "display_data"
    },
    {
     "name": "stdout",
     "output_type": "stream",
     "text": [
      "Running loss: 0.174044\n"
     ]
    },
    {
     "data": {
      "application/vnd.jupyter.widget-view+json": {
       "model_id": "3b701a5a0cc14f5b9e5db4c80aa1d845",
       "version_major": 2,
       "version_minor": 0
      },
      "text/plain": [
       "HBox(children=(FloatProgress(value=0.0, description='Current iteration', max=1523.0, style=ProgressStyle(descr…"
      ]
     },
     "metadata": {},
     "output_type": "display_data"
    },
    {
     "name": "stdout",
     "output_type": "stream",
     "text": [
      "Running loss: 0.067738\n",
      "\n",
      "Training of bert model complete. Saved to outputs/.\n",
      "Features loaded from cache at cache_dir/cached_dev_bert_128_2_1522\n"
     ]
    },
    {
     "data": {
      "application/vnd.jupyter.widget-view+json": {
       "model_id": "743bcdf7fc744f8c9fa0c8b8032c3455",
       "version_major": 2,
       "version_minor": 0
      },
      "text/plain": [
       "HBox(children=(FloatProgress(value=0.0, max=191.0), HTML(value='')))"
      ]
     },
     "metadata": {},
     "output_type": "display_data"
    },
    {
     "name": "stdout",
     "output_type": "stream",
     "text": [
      "\n",
      "{'mcc': 0.6476577103604085, 'tp': 505, 'tn': 756, 'fp': 122, 'fn': 139, 'acc': 0.828515111695138, 'eval_loss': 0.4781928838313562}\n",
      "0.828515111695138\n"
     ]
    }
   ],
   "source": [
    "n=5\n",
    "kf = KFold(n_splits=n, random_state=seed, shuffle=True)\n",
    "results = []\n",
    "\n",
    "for train_index, val_index in kf.split(train_data):\n",
    "    train_df = train_data.iloc[train_index]\n",
    "    val_df = train_data.iloc[val_index]\n",
    "    \n",
    "    model = ClassificationModel('bert', 'bert-base-uncased', args=custom_args) \n",
    "    model.train_model(train_df)\n",
    "    result, model_outputs, wrong_predictions = model.eval_model(val_df, acc=sklearn.metrics.accuracy_score)\n",
    "    print(result['acc'])\n",
    "    results.append(result['acc'])"
   ]
  },
  {
   "cell_type": "code",
   "execution_count": 10,
   "metadata": {},
   "outputs": [
    {
     "name": "stdout",
     "output_type": "stream",
     "text": [
      "Fold-1: 0.855548260013132\n",
      "Fold-2: 0.8522652659225214\n",
      "Fold-3: 0.8502954694681549\n",
      "Fold-4: 0.8245729303547963\n",
      "Fold-5: 0.828515111695138\n",
      "5-fold CV accuracy result: Mean: 0.8422394074907485 Standard deviation:0.01298463890002993\n"
     ]
    }
   ],
   "source": [
    "for i, result in enumerate(results, 1):\n",
    "    print(f\"Fold-{i}: {result}\")\n",
    "    \n",
    "print(f\"{n}-fold CV accuracy result: Mean: {np.mean(results)} Standard deviation:{np.std(results)}\")"
   ]
  },
  {
   "cell_type": "code",
   "execution_count": 11,
   "metadata": {},
   "outputs": [
    {
     "name": "stdout",
     "output_type": "stream",
     "text": [
      "Converting to features started. Cache is not used.\n"
     ]
    },
    {
     "data": {
      "application/vnd.jupyter.widget-view+json": {
       "model_id": "9f0889c096a04a5c837f86d40bb6e970",
       "version_major": 2,
       "version_minor": 0
      },
      "text/plain": [
       "HBox(children=(FloatProgress(value=0.0, max=7613.0), HTML(value='')))"
      ]
     },
     "metadata": {},
     "output_type": "display_data"
    },
    {
     "name": "stdout",
     "output_type": "stream",
     "text": [
      "\n"
     ]
    },
    {
     "data": {
      "application/vnd.jupyter.widget-view+json": {
       "model_id": "267b9b32395f4a4baa5c894b71eb46bd",
       "version_major": 2,
       "version_minor": 0
      },
      "text/plain": [
       "HBox(children=(FloatProgress(value=0.0, description='Epoch', max=2.0, style=ProgressStyle(description_width='i…"
      ]
     },
     "metadata": {},
     "output_type": "display_data"
    },
    {
     "data": {
      "application/vnd.jupyter.widget-view+json": {
       "model_id": "bea14455b1ef41ac80c0bb1909c48979",
       "version_major": 2,
       "version_minor": 0
      },
      "text/plain": [
       "HBox(children=(FloatProgress(value=0.0, description='Current iteration', max=1904.0, style=ProgressStyle(descr…"
      ]
     },
     "metadata": {},
     "output_type": "display_data"
    },
    {
     "name": "stdout",
     "output_type": "stream",
     "text": [
      "Running loss: 0.051356\n"
     ]
    },
    {
     "data": {
      "application/vnd.jupyter.widget-view+json": {
       "model_id": "2bd9d12d3a434201b054d09dd0d1e45c",
       "version_major": 2,
       "version_minor": 0
      },
      "text/plain": [
       "HBox(children=(FloatProgress(value=0.0, description='Current iteration', max=1904.0, style=ProgressStyle(descr…"
      ]
     },
     "metadata": {},
     "output_type": "display_data"
    },
    {
     "name": "stdout",
     "output_type": "stream",
     "text": [
      "Running loss: 0.102256\n",
      "\n",
      "Training of bert model complete. Saved to outputs/.\n"
     ]
    }
   ],
   "source": [
    "model = ClassificationModel('bert', 'bert-base-uncased', args=custom_args) \n",
    "model.train_model(train_data)"
   ]
  },
  {
   "cell_type": "code",
   "execution_count": 12,
   "metadata": {
    "scrolled": true
   },
   "outputs": [
    {
     "name": "stdout",
     "output_type": "stream",
     "text": [
      "Converting to features started. Cache is not used.\n"
     ]
    },
    {
     "data": {
      "application/vnd.jupyter.widget-view+json": {
       "model_id": "cf923ac5ff994d04a7622f8723b4c2a2",
       "version_major": 2,
       "version_minor": 0
      },
      "text/plain": [
       "HBox(children=(FloatProgress(value=0.0, max=3263.0), HTML(value='')))"
      ]
     },
     "metadata": {},
     "output_type": "display_data"
    },
    {
     "name": "stdout",
     "output_type": "stream",
     "text": [
      "\n"
     ]
    },
    {
     "data": {
      "application/vnd.jupyter.widget-view+json": {
       "model_id": "45f60f3723da465883a30039b3ab72dc",
       "version_major": 2,
       "version_minor": 0
      },
      "text/plain": [
       "HBox(children=(FloatProgress(value=0.0, max=408.0), HTML(value='')))"
      ]
     },
     "metadata": {},
     "output_type": "display_data"
    },
    {
     "name": "stdout",
     "output_type": "stream",
     "text": [
      "\n"
     ]
    }
   ],
   "source": [
    "test_data = pd.read_csv('../Desktop/test.csv')\n",
    "predictions, raw_outputs = model.predict(test_data['text'])\n",
    "\n",
    "sample_submission = pd.read_csv(\"../Desktop/sample_submission.csv\")\n",
    "sample_submission[\"target\"] = predictions\n",
    "sample_submission.to_csv(\"submission-k1.csv\", index=False)"
   ]
  },
  {
   "cell_type": "code",
   "execution_count": null,
   "metadata": {},
   "outputs": [],
   "source": []
  }
 ],
 "metadata": {
  "kernelspec": {
   "display_name": "Python 3",
   "language": "python",
   "name": "python3"
  },
  "language_info": {
   "codemirror_mode": {
    "name": "ipython",
    "version": 3
   },
   "file_extension": ".py",
   "mimetype": "text/x-python",
   "name": "python",
   "nbconvert_exporter": "python",
   "pygments_lexer": "ipython3",
   "version": "3.6.9"
  }
 },
 "nbformat": 4,
 "nbformat_minor": 2
}
